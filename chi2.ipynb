{
 "cells": [
  {
   "cell_type": "markdown",
   "id": "5a248144",
   "metadata": {},
   "source": []
  },
  {
   "cell_type": "markdown",
   "id": "66614035",
   "metadata": {},
   "source": [
    "# The Chi Squared Test\n",
    "\n",
    "## Problem\n",
    "Determine $X_1,\\dotsc, X_N$ comes from a uniform probability distribution on the set "
   ]
  },
  {
   "cell_type": "code",
   "execution_count": null,
   "id": "fa8c1fa5",
   "metadata": {},
   "outputs": [],
   "source": [
    "from collections import Counter\n",
    "def chi2_stat(data, ran):\n",
    "    C = Counter(data)\n",
    "    print(C)\n",
    "    a, b = ran\n",
    "    E = len(data)/(b-a+1.0)\n",
    "    print(E)\n",
    "    stat = 0\n",
    "    for i in range(a,b+1):\n",
    "        if i in C.keys():\n",
    "            stat += (C[i]-E)**2/float(E)\n",
    "        else:\n",
    "            stat += E\n",
    "    return stat, b-a"
   ]
  },
  {
   "cell_type": "code",
   "execution_count": null,
   "id": "bbd16ac1",
   "metadata": {},
   "outputs": [],
   "source": [
    "from scipy.stats import chi2_contingency\n",
    "def chi_2p(data, ran):\n",
    "    X, df = chi2_stat(data, ran)\n",
    "    return 1 - chi2.cdf(X,df)"
   ]
  },
  {
   "cell_type": "code",
   "execution_count": 27,
   "id": "4be4b8ba",
   "metadata": {},
   "outputs": [
    {
     "name": "stdout",
     "output_type": "stream",
     "text": [
      "Counter({1: 3})\n",
      "1.0\n"
     ]
    },
    {
     "ename": "AttributeError",
     "evalue": "'function' object has no attribute 'cdf'",
     "output_type": "error",
     "traceback": [
      "\u001b[0;31m---------------------------------------------------------------------------\u001b[0m",
      "\u001b[0;31mAttributeError\u001b[0m                            Traceback (most recent call last)",
      "Cell \u001b[0;32mIn[27], line 1\u001b[0m\n\u001b[0;32m----> 1\u001b[0m \u001b[43mchi_2p\u001b[49m\u001b[43m(\u001b[49m\u001b[43m[\u001b[49m\u001b[38;5;241;43m1\u001b[39;49m\u001b[43m,\u001b[49m\u001b[38;5;241;43m1\u001b[39;49m\u001b[43m,\u001b[49m\u001b[38;5;241;43m1\u001b[39;49m\u001b[43m]\u001b[49m\u001b[43m,\u001b[49m\u001b[43m \u001b[49m\u001b[43m(\u001b[49m\u001b[38;5;241;43m1\u001b[39;49m\u001b[43m,\u001b[49m\u001b[38;5;241;43m3\u001b[39;49m\u001b[43m)\u001b[49m\u001b[43m)\u001b[49m\n",
      "Cell \u001b[0;32mIn[26], line 4\u001b[0m, in \u001b[0;36mchi_2p\u001b[0;34m(data, ran)\u001b[0m\n\u001b[1;32m      2\u001b[0m \u001b[38;5;28;01mdef\u001b[39;00m \u001b[38;5;21mchi_2p\u001b[39m(data, ran):\n\u001b[1;32m      3\u001b[0m     X, df \u001b[38;5;241m=\u001b[39m chi2(data, ran)\n\u001b[0;32m----> 4\u001b[0m     \u001b[38;5;28;01mreturn\u001b[39;00m \u001b[38;5;241m1\u001b[39m \u001b[38;5;241m-\u001b[39m \u001b[43mchi2\u001b[49m\u001b[38;5;241;43m.\u001b[39;49m\u001b[43mcdf\u001b[49m(X,df)\n",
      "\u001b[0;31mAttributeError\u001b[0m: 'function' object has no attribute 'cdf'"
     ]
    }
   ],
   "source": [
    "chi_2p([1,1,1], (1,3))"
   ]
  },
  {
   "cell_type": "code",
   "execution_count": 14,
   "id": "7f5501db",
   "metadata": {},
   "outputs": [
    {
     "data": {
      "text/plain": [
       "1"
      ]
     },
     "execution_count": 14,
     "metadata": {},
     "output_type": "execute_result"
    }
   ],
   "source": [
    "C = Counter([1,2,3])\n",
    "C.keys()\n",
    "C[1]"
   ]
  },
  {
   "cell_type": "code",
   "execution_count": null,
   "id": "8b9b3961",
   "metadata": {},
   "outputs": [],
   "source": []
  }
 ],
 "metadata": {
  "kernelspec": {
   "display_name": "Python 3",
   "language": "python",
   "name": "python3"
  },
  "language_info": {
   "codemirror_mode": {
    "name": "ipython",
    "version": 3
   },
   "file_extension": ".py",
   "mimetype": "text/x-python",
   "name": "python",
   "nbconvert_exporter": "python",
   "pygments_lexer": "ipython3",
   "version": "3.8.10"
  }
 },
 "nbformat": 4,
 "nbformat_minor": 5
}
