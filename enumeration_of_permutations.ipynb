{
 "cells": [
  {
   "cell_type": "markdown",
   "id": "20c80222",
   "metadata": {},
   "source": [
    "# Enumeration of Permutations using Fischer-Yates shuffles"
   ]
  },
  {
   "cell_type": "code",
   "execution_count": 55,
   "id": "8c83e23b",
   "metadata": {},
   "outputs": [],
   "source": [
    "from itertools import product\n",
    "from random import randint\n",
    "\n",
    "def permutation_from_table(inversion_table,n=FileNotFoundError):\n",
    "    inversion_table = list(inversion_table)\n",
    "    n = len(inversion_table)\n",
    "    w = list(range(1,n+1))\n",
    "    for k in range(n-1,-1,-1):\n",
    "        w[inversion_table[k]], w[k] = w[k], w[inversion_table[k]]\n",
    "    return w\n",
    "\n",
    "def permutations_fy(n):\n",
    "    \"\"\"Generate permutations on `n` letters using Fischer-Yates shuffles.\"\"\"\n",
    "    inversion_tables = product(*(range(i) for i in range(1,n+1)))\n",
    "    for inversion_table in inversion_tables:\n",
    "        yield permutation_from_table(inversion_table)"
   ]
  },
  {
   "cell_type": "code",
   "execution_count": 56,
   "id": "aa4c7070",
   "metadata": {},
   "outputs": [
    {
     "data": {
      "text/plain": [
       "[[2, 3, 1], [3, 1, 2], [2, 1, 3], [3, 2, 1], [1, 3, 2], [1, 2, 3]]"
      ]
     },
     "execution_count": 56,
     "metadata": {},
     "output_type": "execute_result"
    }
   ],
   "source": [
    "list(permutations_fy(3))"
   ]
  },
  {
   "cell_type": "code",
   "execution_count": 59,
   "id": "98e70f0d",
   "metadata": {},
   "outputs": [],
   "source": [
    "def random_permutation_fy(n):\n",
    "    \"\"\"Generate a random permutation using Fischer-Yates shuffles.\"\"\"\n",
    "    table = [randint(0,i) for i in range(n)]\n",
    "    return permutation_from_table(table)"
   ]
  },
  {
   "cell_type": "code",
   "execution_count": 60,
   "id": "0dd93d30",
   "metadata": {},
   "outputs": [
    {
     "data": {
      "text/plain": [
       "[[3, 1, 2],\n",
       " [1, 2, 3],\n",
       " [1, 2, 3],\n",
       " [3, 2, 1],\n",
       " [1, 2, 3],\n",
       " [2, 1, 3],\n",
       " [2, 3, 1],\n",
       " [3, 1, 2],\n",
       " [2, 1, 3],\n",
       " [3, 1, 2],\n",
       " [3, 1, 2],\n",
       " [3, 2, 1],\n",
       " [1, 3, 2],\n",
       " [1, 3, 2],\n",
       " [3, 1, 2],\n",
       " [3, 2, 1],\n",
       " [1, 2, 3],\n",
       " [1, 2, 3],\n",
       " [2, 3, 1],\n",
       " [3, 2, 1],\n",
       " [3, 1, 2],\n",
       " [2, 1, 3],\n",
       " [2, 3, 1],\n",
       " [2, 1, 3],\n",
       " [1, 2, 3],\n",
       " [2, 1, 3],\n",
       " [2, 1, 3],\n",
       " [3, 2, 1],\n",
       " [1, 2, 3],\n",
       " [3, 2, 1],\n",
       " [2, 1, 3],\n",
       " [1, 2, 3],\n",
       " [3, 1, 2],\n",
       " [2, 3, 1],\n",
       " [3, 2, 1],\n",
       " [3, 1, 2],\n",
       " [1, 2, 3],\n",
       " [1, 3, 2],\n",
       " [2, 1, 3],\n",
       " [2, 3, 1],\n",
       " [2, 1, 3],\n",
       " [1, 3, 2],\n",
       " [2, 3, 1],\n",
       " [2, 3, 1],\n",
       " [2, 1, 3],\n",
       " [1, 2, 3],\n",
       " [3, 2, 1],\n",
       " [2, 3, 1],\n",
       " [2, 3, 1],\n",
       " [3, 1, 2],\n",
       " [1, 3, 2],\n",
       " [1, 2, 3],\n",
       " [1, 3, 2],\n",
       " [1, 2, 3],\n",
       " [2, 3, 1],\n",
       " [1, 2, 3],\n",
       " [2, 1, 3],\n",
       " [3, 1, 2],\n",
       " [3, 2, 1],\n",
       " [1, 3, 2],\n",
       " [1, 2, 3],\n",
       " [2, 1, 3],\n",
       " [1, 2, 3],\n",
       " [3, 1, 2],\n",
       " [2, 1, 3],\n",
       " [3, 1, 2],\n",
       " [2, 3, 1],\n",
       " [1, 3, 2],\n",
       " [1, 2, 3],\n",
       " [3, 1, 2],\n",
       " [2, 1, 3],\n",
       " [2, 1, 3],\n",
       " [2, 3, 1],\n",
       " [3, 2, 1],\n",
       " [2, 1, 3],\n",
       " [2, 3, 1],\n",
       " [1, 3, 2],\n",
       " [2, 3, 1],\n",
       " [1, 2, 3],\n",
       " [2, 3, 1],\n",
       " [3, 1, 2],\n",
       " [2, 1, 3],\n",
       " [3, 1, 2],\n",
       " [3, 1, 2],\n",
       " [1, 3, 2],\n",
       " [1, 3, 2],\n",
       " [1, 3, 2],\n",
       " [3, 2, 1],\n",
       " [1, 2, 3],\n",
       " [1, 3, 2],\n",
       " [3, 1, 2],\n",
       " [3, 1, 2],\n",
       " [1, 2, 3],\n",
       " [1, 3, 2],\n",
       " [2, 3, 1],\n",
       " [3, 2, 1],\n",
       " [1, 2, 3],\n",
       " [1, 3, 2],\n",
       " [3, 2, 1],\n",
       " [3, 1, 2]]"
      ]
     },
     "execution_count": 60,
     "metadata": {},
     "output_type": "execute_result"
    }
   ],
   "source": [
    "[random_permutation_fy(3) for i in range(100)]"
   ]
  },
  {
   "cell_type": "code",
   "execution_count": null,
   "id": "2d400de3",
   "metadata": {},
   "outputs": [],
   "source": [
    "from math import factorial\n",
    "def rank(w):\n",
    "    \"\"\"Return the rank of the permutation ``w`` in the lexicographic list of permutations of the same length.\"\"\"\n",
    "    n = len(w)\n",
    "    letters = list(range(1,n+1))\n",
    "    rank = 0\n",
    "    for i in range(n):\n",
    "        a = w[i]\n",
    "        r = letters.index(a)\n",
    "        letters.pop(r)\n",
    "        rank += factorial(n-i-1)*(r-1)\n",
    "    return rank"
   ]
  },
  {
   "cell_type": "code",
   "execution_count": 66,
   "id": "0bf29641",
   "metadata": {},
   "outputs": [
    {
     "ename": "NameError",
     "evalue": "name 'ranks' is not defined",
     "output_type": "error",
     "traceback": [
      "\u001b[0;31m---------------------------------------------------------------------------\u001b[0m",
      "\u001b[0;31mNameError\u001b[0m                                 Traceback (most recent call last)",
      "Cell \u001b[0;32mIn[66], line 1\u001b[0m\n\u001b[0;32m----> 1\u001b[0m \u001b[43mrank\u001b[49m\u001b[43m(\u001b[49m\u001b[43m[\u001b[49m\u001b[38;5;241;43m1\u001b[39;49m\u001b[43m,\u001b[49m\u001b[38;5;241;43m2\u001b[39;49m\u001b[43m,\u001b[49m\u001b[38;5;241;43m3\u001b[39;49m\u001b[43m]\u001b[49m\u001b[43m)\u001b[49m\n",
      "Cell \u001b[0;32mIn[65], line 12\u001b[0m, in \u001b[0;36mrank\u001b[0;34m(w)\u001b[0m\n\u001b[1;32m     10\u001b[0m     letters\u001b[38;5;241m.\u001b[39mpop(r)\n\u001b[1;32m     11\u001b[0m     rank \u001b[38;5;241m+\u001b[39m\u001b[38;5;241m=\u001b[39m factorial(n\u001b[38;5;241m-\u001b[39mi\u001b[38;5;241m-\u001b[39m\u001b[38;5;241m1\u001b[39m)\u001b[38;5;241m*\u001b[39m(r\u001b[38;5;241m-\u001b[39m\u001b[38;5;241m1\u001b[39m)\n\u001b[0;32m---> 12\u001b[0m \u001b[38;5;28;01mreturn\u001b[39;00m \u001b[43mranks\u001b[49m\n",
      "\u001b[0;31mNameError\u001b[0m: name 'ranks' is not defined"
     ]
    }
   ],
   "source": [
    "rank([1,2,3])"
   ]
  },
  {
   "cell_type": "code",
   "execution_count": null,
   "id": "3cc23996",
   "metadata": {},
   "outputs": [],
   "source": []
  }
 ],
 "metadata": {
  "kernelspec": {
   "display_name": "Python 3",
   "language": "python",
   "name": "python3"
  },
  "language_info": {
   "codemirror_mode": {
    "name": "ipython",
    "version": 3
   },
   "file_extension": ".py",
   "mimetype": "text/x-python",
   "name": "python",
   "nbconvert_exporter": "python",
   "pygments_lexer": "ipython3",
   "version": "3.8.10"
  }
 },
 "nbformat": 4,
 "nbformat_minor": 5
}
