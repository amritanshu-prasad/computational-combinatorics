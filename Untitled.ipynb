{
 "cells": [
  {
   "cell_type": "markdown",
   "id": "a36e1211-4ef3-40cb-8ecc-6966d4dadad1",
   "metadata": {},
   "source": [
    "# Generating Permutations using Fischer-Yates shuffles\n",
    "\n",
    "Let $w=w_1\\dotsb w_n$ be a permutation of $n$ symbols.\n",
    "Then the letter $n$ has $n$ possible positions, namely $1$ through $n$.\n",
    "For example, in the permutations $1234$, $1243$, $1423$ and $4123$, the letter $n=4$ has positions $1$, $2$, $3$, and $4$ respectively."
   ]
  },
  {
   "cell_type": "code",
   "execution_count": null,
   "id": "61662d9b-cdc5-44ae-bf91-fa262bafc327",
   "metadata": {},
   "outputs": [],
   "source": []
  }
 ],
 "metadata": {
  "kernelspec": {
   "display_name": "Python 3 (ipykernel)",
   "language": "python",
   "name": "python3"
  },
  "language_info": {
   "codemirror_mode": {
    "name": "ipython",
    "version": 3
   },
   "file_extension": ".py",
   "mimetype": "text/x-python",
   "name": "python",
   "nbconvert_exporter": "python",
   "pygments_lexer": "ipython3",
   "version": "3.12.5"
  }
 },
 "nbformat": 4,
 "nbformat_minor": 5
}
