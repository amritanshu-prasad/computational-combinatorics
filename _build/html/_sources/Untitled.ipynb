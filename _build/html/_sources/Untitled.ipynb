{
 "cells": [
  {
   "cell_type": "markdown",
   "id": "cd310daa-a3fb-48f9-9467-d7ea6446aeb6",
   "metadata": {},
   "source": [
    "# Binary Sequence\n",
    "\n",
    "### Definition\n",
    "\n",
    "A *binary sequence* of length $n$ is a sequence of the form $(a_0,\\dotsc,a_{n-1})$, where $a_i\\in \\{0,1\\}$ for $i=0,\\dotsc,n$.\n",
    "\n",
    "### Example: Binary Sequences of Length Three\n",
    "\n",
    "There are four binary sequences of length $3$, namely:\n",
    "$$\n",
    "000, 001, 010, 011, 100, 101, 110, 111\n",
    "$$\n",
    "For compactness of notation, the parentheses and commas have been removed.\n",
    "Moreover the sequences have been listed in dictionary order, also known as *lexicographic order*:\n",
    "Imagine a language whose alphabet only has two letters, namely $0$ and $1$.\n",
    "Each word in this language would be a binary sequences.\n",
    "If all binary sequences were "
   ]
  },
  {
   "cell_type": "code",
   "execution_count": null,
   "id": "cc797f2c-61a1-4d6c-a80f-ecc4025d045f",
   "metadata": {},
   "outputs": [],
   "source": []
  },
  {
   "cell_type": "code",
   "execution_count": null,
   "id": "1f62eb3d-97ac-4570-967d-05a38f8e9146",
   "metadata": {},
   "outputs": [],
   "source": []
  }
 ],
 "metadata": {
  "kernelspec": {
   "display_name": "Python 3 (ipykernel)",
   "language": "python",
   "name": "python3"
  },
  "language_info": {
   "codemirror_mode": {
    "name": "ipython",
    "version": 3
   },
   "file_extension": ".py",
   "mimetype": "text/x-python",
   "name": "python",
   "nbconvert_exporter": "python",
   "pygments_lexer": "ipython3",
   "version": "3.11.1"
  }
 },
 "nbformat": 4,
 "nbformat_minor": 5
}
