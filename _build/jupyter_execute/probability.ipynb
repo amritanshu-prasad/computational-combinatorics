{
 "cells": [
  {
   "cell_type": "markdown",
   "id": "5860436f",
   "metadata": {},
   "source": [
    "# Probability\n",
    "\n",
    "The probability of an event refers to the likelihood of an even ocurring.\n",
    "It is a number between $0$ and $1$, where probability $0$ means that the event will never happen, and probability $1$ means that the event will always happen.\n",
    "\n",
    "As a concrete example, consider an urn with $3$ red balls and $2$ blue balls. If we draw a ball at random, the probability of drawing a red ball is $\\frac{3}{5}$, and the probability of drawing a blue ball is $\\frac{2}{5}$.\n",
    "\n",
    "On a computer we can simulate the urn experiment as follows: we will think of the five balls in the urn as the integers $0,1,2,3,4$.\n",
    "We will regard the numbers $0,1,2$ as red balls, and the numbers $3,4$ as blue balls.\n",
    "We will use the `random` module to generate a random number between $0$ and $4$, and then we will check if the number is less than $3$ (red ball) or greater than or equal to $3$ (blue ball)."
   ]
  },
  {
   "cell_type": "code",
   "execution_count": 1,
   "id": "98aa829e",
   "metadata": {},
   "outputs": [
    {
     "data": {
      "text/plain": [
       "'R'"
      ]
     },
     "execution_count": 1,
     "metadata": {},
     "output_type": "execute_result"
    }
   ],
   "source": [
    "from random import randint \n",
    "def urn_experiment(red=3, blue=2):\n",
    "    n = red + blue # the total number of balls in the urn_experiment\n",
    "    a = randint(0,n-1) # a random integer between 0 and n-1, including both ends \n",
    "    if a < red:\n",
    "        return \"R\"\n",
    "    else:\n",
    "        return \"B\"\n",
    "\n",
    "urn_experiment()"
   ]
  },
  {
   "cell_type": "markdown",
   "id": "f4c4d7bf",
   "metadata": {},
   "source": [
    "A single run of the urn experiment will return either `red` or `blue`.\n",
    "From this, it is not really possible to determine the proportion of red balls to blue balls in the urn.\n",
    "But if we run the urn experiment many times, we may get a clue about the proportion of red balls to blue balls in the urn."
   ]
  },
  {
   "cell_type": "code",
   "execution_count": 2,
   "id": "1b08a338",
   "metadata": {},
   "outputs": [
    {
     "name": "stdout",
     "output_type": "stream",
     "text": [
      "0.5946\n"
     ]
    }
   ],
   "source": [
    "L = [urn_experiment() for i in range(10000)]\n",
    "print(L.count(\"R\")/10000)"
   ]
  },
  {
   "cell_type": "markdown",
   "id": "ff214642",
   "metadata": {},
   "source": [
    "In the preceding code, we ran the experiment ten thousand times.\n",
    "Out of 10000 runs, close to 6000 runs returned `red`, meaning that the fraction of red balls in the urn is close to $\\frac{3}{5}$."
   ]
  },
  {
   "cell_type": "markdown",
   "id": "77f70fd0",
   "metadata": {},
   "source": [
    "## Formal Definition of Probability\n",
    "\n",
    "A probability space is a pair $(X,P)$, where $X$ is a set (called the *sample space*, to be thought of as the space of all possible outcomes of an experiment), and a probability function $P$ that assigns a number $0\\leq p(x)\\leq 1$ to each outcome $x\\in X$ such that\n",
    "$$\n",
    "\\sum_{x\\in X} p(x) = 1.\n",
    "$$\n",
    "The probability of a subset $A\\subset X$ is defined as\n",
    "$$\n",
    "P(A) = \\sum_{x\\in A} p(x).\n",
    "$$\n",
    "$P(A)$ is the probability that one of the elements in $A$ is the outcome of the experiment.\n",
    "\n",
    "\n",
    "### Example: Urn Experiment\n",
    "\n",
    "In the urn experiment above $X = \\{0,1,2,3,4\\}$, and the probability function is given by $P(x) = \\frac{1}{5}$ for all $x\\in X$.\n",
    "The balls $0,1,2$ are red, and the balls $3,4$ are blue.\n",
    "The event of drawing a red ball corresponds to the subset $A = \\{0,1,2\\}$, and the probability of drawing a red ball is $P(A) = \\frac 15 + \\frac 15 + \\frac 15 = \\frac 35$.\n",
    "\n",
    "### Example: An abstract probability space\n",
    "\n",
    "Let $X=\\{\\text}{Red},\\text{Blue}\\}$.\n",
    "Define $P(\\text{Red}) = \\frac 35$ and $P(\\text{Blue}) = \\frac 25$.\n",
    "Then $"
   ]
  },
  {
   "cell_type": "code",
   "execution_count": null,
   "id": "c7c20875",
   "metadata": {},
   "outputs": [],
   "source": []
  }
 ],
 "metadata": {
  "jupytext": {
   "text_representation": {
    "extension": ".md",
    "format_name": "myst",
    "format_version": 0.13,
    "jupytext_version": "1.16.2"
   }
  },
  "kernelspec": {
   "display_name": "Python 3",
   "language": "python",
   "name": "python3"
  },
  "language_info": {
   "codemirror_mode": {
    "name": "ipython",
    "version": 3
   },
   "file_extension": ".py",
   "mimetype": "text/x-python",
   "name": "python",
   "nbconvert_exporter": "python",
   "pygments_lexer": "ipython3",
   "version": "3.8.10"
  },
  "source_map": [
   12,
   25,
   36,
   42,
   45,
   50,
   77
  ]
 },
 "nbformat": 4,
 "nbformat_minor": 5
}