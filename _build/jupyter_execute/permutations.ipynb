{
 "cells": [
  {
   "cell_type": "markdown",
   "id": "356fdfd6",
   "metadata": {},
   "source": [
    "# Permutations\n",
    "### Definition\n",
    "A permutation on $n$ letters is a sequence $w=(w_0,w_1,\\ldots,w_{n-1})$ where each of the numbers $1,2,\\ldots,n$ appears exactly once.\n",
    "### Example\n",
    "There are six permutations of on three letters, namely:\n",
    "$$ \n",
    "(1,2,3), (1,3,2), (2,1,3), (2,3,1), (3,1,2), (3,2,1).\n",
    "$$\n",
    "When $n$ is small (less than 10), the parentheses and comma can be omitted.\n",
    "With the abbreviated notation, the six permutations of three letters are:\n",
    "$$\n",
    "123, 132, 213, 231, 312, 321.\n",
    "$$"
   ]
  }
 ],
 "metadata": {
  "jupytext": {
   "text_representation": {
    "extension": ".md",
    "format_name": "myst",
    "format_version": 0.13,
    "jupytext_version": "1.16.2"
   }
  },
  "kernelspec": {
   "display_name": "Python 3 (ipykernel)",
   "language": "python",
   "name": "python3"
  },
  "language_info": {
   "codemirror_mode": {
    "name": "ipython",
    "version": 3
   },
   "file_extension": ".py",
   "mimetype": "text/x-python",
   "name": "python",
   "nbconvert_exporter": "python",
   "pygments_lexer": "ipython3",
   "version": "3.8.10"
  },
  "source_map": [
   12
  ]
 },
 "nbformat": 4,
 "nbformat_minor": 5
}