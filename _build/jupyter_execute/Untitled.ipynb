{
 "cells": [
  {
   "cell_type": "markdown",
   "id": "0ddd37b9",
   "metadata": {},
   "source": [
    "# Generating Permutations using Fischer-Yates shuffles\n",
    "\n",
    "Let $w=w_1\\dotsb w_n$ be a permutation of $n$ symbols.\n",
    "Then the letter $n$ has $n$ possible positions, namely $1$ through $n$.\n",
    "For example, in the permutations $1234$, $1243$, $1423$ and $4123$, the letter $n=4$ has positions $1$, $2$, $3$, and $4$ respectively."
   ]
  },
  {
   "cell_type": "code",
   "execution_count": null,
   "id": "c9f6c9a6",
   "metadata": {},
   "outputs": [],
   "source": []
  }
 ],
 "metadata": {
  "jupytext": {
   "text_representation": {
    "extension": ".md",
    "format_name": "myst",
    "format_version": 0.13,
    "jupytext_version": "1.16.2"
   }
  },
  "kernelspec": {
   "display_name": "Python 3 (ipykernel)",
   "language": "python",
   "name": "python3"
  },
  "language_info": {
   "codemirror_mode": {
    "name": "ipython",
    "version": 3
   },
   "file_extension": ".py",
   "mimetype": "text/x-python",
   "name": "python",
   "nbconvert_exporter": "python",
   "pygments_lexer": "ipython3",
   "version": "3.8.10"
  },
  "source_map": [
   12,
   20
  ]
 },
 "nbformat": 4,
 "nbformat_minor": 5
}