{
 "cells": [
  {
   "cell_type": "markdown",
   "id": "97d1d7f9-2529-4763-bffd-b8e2e5e4f6af",
   "metadata": {},
   "source": [
    "## Random Sampling\n",
    "\n",
    "Random integer generators are useful for sampling from a discrete structure.\n",
    "Python provides the `randint` function from its `random` module."
   ]
  },
  {
   "cell_type": "code",
   "execution_count": 1,
   "id": "1db25acb-6378-43f5-bad6-8a33e26b9a82",
   "metadata": {},
   "outputs": [],
   "source": [
    "from random import randint"
   ]
  },
  {
   "cell_type": "markdown",
   "id": "c7ee7846-92cd-4c85-a027-7877b649c630",
   "metadata": {},
   "source": [
    "Let us create a list of 1000 random numbers from 0 to 9 (both ends included).\n",
    "Each integer is equally likely to be selected."
   ]
  },
  {
   "cell_type": "code",
   "execution_count": 2,
   "id": "2cc997a0-320f-45e7-80b6-7db0f56ae99c",
   "metadata": {},
   "outputs": [],
   "source": [
    "L = [randint(0,9) for i in range(1000)]"
   ]
  },
  {
   "cell_type": "markdown",
   "id": "591c7f95-0e58-481d-b502-92976f7e15e6",
   "metadata": {},
   "source": [
    "We can examine the frequencies of the numbers generated.\n",
    "We expect each of the integers 1 to 10 to occur about 100 times.\n",
    "However, randomness will imply a certain amout of variation."
   ]
  },
  {
   "cell_type": "code",
   "execution_count": 3,
   "id": "8a9c3fdd-9180-4982-a2a9-cf8a66ab4706",
   "metadata": {},
   "outputs": [
    {
     "data": {
      "text/plain": [
       "(array([111.,  97., 102., 101., 118.,  87.,  90.,  95.,  94., 105.]),\n",
       " array([0. , 0.9, 1.8, 2.7, 3.6, 4.5, 5.4, 6.3, 7.2, 8.1, 9. ]),\n",
       " <BarContainer object of 10 artists>)"
      ]
     },
     "execution_count": 3,
     "metadata": {},
     "output_type": "execute_result"
    },
    {
     "data": {
      "image/png": "[encoded data removed]",
      "text/plain": [
       "<Figure size 640x480 with 1 Axes>"
      ]
     },
     "metadata": {},
     "output_type": "display_data"
    }
   ],
   "source": [
    "from matplotlib.pyplot import hist\n",
    "hist(L)"
   ]
  },
  {
   "cell_type": "markdown",
   "id": "02daebc2-3393-4c5f-b05b-5080c242424c",
   "metadata": {},
   "source": [
    "## A general purpose algorithm for sampling from a finite set\n",
    "\n",
    "The `randint` function can be used to sample randomly from any finite set as follows:\n",
    "\n",
    "1. Create a list containing all the elements of the finite set.\n",
    "2. Let `n` be the length of the list.\n",
    "3. Choose a random integer `i` between 0 and n-1.\n",
    "4. Return the element of the list with index `i`."
   ]
  },
  {
   "cell_type": "code",
   "execution_count": 4,
   "id": "1c13d405-cb5d-44b2-8d5c-f8760b82a399",
   "metadata": {},
   "outputs": [],
   "source": [
    "def random_element(L):\n",
    "    L = list(L) # in case L is some iterable that is not a list\n",
    "    n = len(L)\n",
    "    i = randint(0,n-1)\n",
    "    return L[i]"
   ]
  },
  {
   "cell_type": "markdown",
   "id": "9a964616-4c36-4800-b945-80f109541e70",
   "metadata": {},
   "source": [
    "Let us try this out on our [generator for binary sequences](generator:binary-sequences) "
   ]
  },
  {
   "cell_type": "code",
   "execution_count": 5,
   "id": "d091c28a-cd91-402d-b00b-4161c9dfa916",
   "metadata": {},
   "outputs": [],
   "source": [
    "def binary_sequences(n):\n",
    "    if n == 0:\n",
    "        yield []\n",
    "    else:\n",
    "        for seq in binary_sequences(n-1):\n",
    "            yield seq + [0]\n",
    "            yield seq + [1]"
   ]
  },
  {
   "cell_type": "markdown",
   "id": "9af0cf17-1974-4c64-a69e-10a9022c2258",
   "metadata": {},
   "source": [
    "to generate a random binary sequence of length three:"
   ]
  },
  {
   "cell_type": "code",
   "execution_count": 6,
   "id": "af6fb1a6-6e25-4a39-b441-e1ffb7fef634",
   "metadata": {},
   "outputs": [
    {
     "data": {
      "text/plain": [
       "[1, 1, 0]"
      ]
     },
     "execution_count": 6,
     "metadata": {},
     "output_type": "execute_result"
    }
   ],
   "source": [
    "random_element(binary_sequences(3))"
   ]
  },
  {
   "cell_type": "markdown",
   "id": "3286b25f-8523-43aa-814f-f56b87fccb28",
   "metadata": {},
   "source": [
    "This algorithm does not require any understanding of the set being sampled from; all you need is an iterator.\n",
    "The downside is that you must generate all the elements of the set and store them in a list before you get a sample.\n",
    "\n",
    "For this reason, the algorithm will not work for very long binary sequences.\n",
    "(exercise:hundred-bits)=\n",
    "```{Exercise}\n",
    "    How many binary sequences of length 100 are there?\n",
    "    Assuming that each such sequence (consisting of 100 bits) takes 15 bytes to store, how many gigabytes will you need in order to generate and store all such sequences?\n",
    "```\n",
    "In the next chapter we will see how the idea of statiscal independence can be used to generate a random sample from the set of binary sequences of length 100 very fast, using very little memory. "
   ]
  },
  {
   "cell_type": "markdown",
   "id": "00377997",
   "metadata": {},
   "source": []
  }
 ],
 "metadata": {
  "kernelspec": {
   "display_name": "Python 3 (ipykernel)",
   "language": "python",
   "name": "python3"
  },
  "language_info": {
   "codemirror_mode": {
    "name": "ipython",
    "version": 3
   },
   "file_extension": ".py",
   "mimetype": "text/x-python",
   "name": "python",
   "nbconvert_exporter": "python",
   "pygments_lexer": "ipython3",
   "version": "3.11.2"
  }
 },
 "nbformat": 4,
 "nbformat_minor": 5
}