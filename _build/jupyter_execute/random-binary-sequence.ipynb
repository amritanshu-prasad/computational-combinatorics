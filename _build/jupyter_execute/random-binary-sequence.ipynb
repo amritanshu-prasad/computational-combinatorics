{
 "cells": [
  {
   "cell_type": "markdown",
   "id": "9173e44d",
   "metadata": {},
   "source": [
    "## Random Sampling\n",
    "\n",
    "Random integer generators are useful for sampling from a discrete structure.\n",
    "Python provides the `randint` function from its `random` module."
   ]
  },
  {
   "cell_type": "code",
   "execution_count": 1,
   "id": "aa0b845f",
   "metadata": {},
   "outputs": [],
   "source": [
    "from random import randint"
   ]
  },
  {
   "cell_type": "markdown",
   "id": "eab30936",
   "metadata": {},
   "source": [
    "Let us create a list of 1000 random numbers from 0 to 9 (both ends included).\n",
    "Each integer is equally likely to be selected."
   ]
  },
  {
   "cell_type": "code",
   "execution_count": 2,
   "id": "95d0d99b",
   "metadata": {},
   "outputs": [],
   "source": [
    "L = [randint(0,9) for i in range(1000)]"
   ]
  },
  {
   "cell_type": "markdown",
   "id": "91ebd0d2",
   "metadata": {},
   "source": [
    "We can examine the frequencies of the numbers generated.\n",
    "We expect each of the integers 1 to 10 to occur about 100 times.\n",
    "However, randomness will imply a certain amout of variation."
   ]
  },
  {
   "cell_type": "code",
   "execution_count": 3,
   "id": "d7c94332",
   "metadata": {},
   "outputs": [
    {
     "data": {
      "text/plain": [
       "(array([106., 110.,  99.,  85.,  89., 103.,  90., 125.,  99.,  94.]),\n",
       " array([0. , 0.9, 1.8, 2.7, 3.6, 4.5, 5.4, 6.3, 7.2, 8.1, 9. ]),\n",
       " <a list of 10 Patch objects>)"
      ]
     },
     "execution_count": 3,
     "metadata": {},
     "output_type": "execute_result"
    },
    {
     "data": {
      "image/png": "[encoded data removed]",
      "text/plain": [
       "<Figure size 640x480 with 1 Axes>"
      ]
     },
     "metadata": {},
     "output_type": "display_data"
    }
   ],
   "source": [
    "from matplotlib.pyplot import hist\n",
    "hist(L)"
   ]
  },
  {
   "cell_type": "markdown",
   "id": "88fe3a08",
   "metadata": {},
   "source": [
    "## A general purpose algorithm for sampling from a finite set\n",
    "\n",
    "The `randint` function can be used to sample randomly from any finite set as follows:\n",
    "\n",
    "1. Create a list containing all the elements of the finite set.\n",
    "2. Let `n` be the length of the list.\n",
    "3. Choose a random integer `i` between 0 and n-1.\n",
    "4. Return the element of the list with index `i`."
   ]
  },
  {
   "cell_type": "code",
   "execution_count": 4,
   "id": "808cfec9",
   "metadata": {},
   "outputs": [],
   "source": [
    "def random_element(L):\n",
    "    L = list(L) # in case L is some iterable that is not a list\n",
    "    n = len(L)\n",
    "    i = randint(0,n-1)\n",
    "    return L[i]"
   ]
  },
  {
   "cell_type": "markdown",
   "id": "9605e197",
   "metadata": {},
   "source": [
    "Let us try this out on our [generator for binary sequences](generator:binary-sequences)"
   ]
  },
  {
   "cell_type": "code",
   "execution_count": 5,
   "id": "503add57",
   "metadata": {},
   "outputs": [],
   "source": [
    "def binary_sequences(n):\n",
    "    if n == 0:\n",
    "        yield []\n",
    "    else:\n",
    "        for seq in binary_sequences(n-1):\n",
    "            yield seq + [0]\n",
    "            yield seq + [1]"
   ]
  },
  {
   "cell_type": "markdown",
   "id": "d8f49551",
   "metadata": {},
   "source": [
    "to generate a random binary sequence of length three:"
   ]
  },
  {
   "cell_type": "code",
   "execution_count": 6,
   "id": "b659a1ce",
   "metadata": {},
   "outputs": [
    {
     "data": {
      "text/plain": [
       "[0, 0, 1]"
      ]
     },
     "execution_count": 6,
     "metadata": {},
     "output_type": "execute_result"
    }
   ],
   "source": [
    "random_element(binary_sequences(3))"
   ]
  },
  {
   "cell_type": "code",
   "execution_count": null,
   "id": "1c38ac5d",
   "metadata": {},
   "outputs": [],
   "source": []
  }
 ],
 "metadata": {
  "jupytext": {
   "text_representation": {
    "extension": ".md",
    "format_name": "myst",
    "format_version": 0.13,
    "jupytext_version": "1.16.2"
   }
  },
  "kernelspec": {
   "display_name": "Python 3 (ipykernel)",
   "language": "python",
   "name": "python3"
  },
  "language_info": {
   "codemirror_mode": {
    "name": "ipython",
    "version": 3
   },
   "file_extension": ".py",
   "mimetype": "text/x-python",
   "name": "python",
   "nbconvert_exporter": "python",
   "pygments_lexer": "ipython3",
   "version": "3.8.10"
  },
  "source_map": [
   12,
   19,
   21,
   26,
   28,
   34,
   37,
   48,
   54,
   58,
   66,
   70,
   74
  ]
 },
 "nbformat": 4,
 "nbformat_minor": 5
}