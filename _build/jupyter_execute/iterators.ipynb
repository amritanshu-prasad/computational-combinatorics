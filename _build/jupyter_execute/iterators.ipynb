{
 "cells": [
  {
   "cell_type": "markdown",
   "id": "0e6caab7",
   "metadata": {},
   "source": [
    "# Iterators and iterable classes in python\n",
    "\n",
    "In python, an iterator is an object that you can loop over.\n",
    "For example, you can loop over a list, a string, or a dictionary in python."
   ]
  },
  {
   "cell_type": "code",
   "execution_count": 1,
   "id": "2ae5fe22",
   "metadata": {},
   "outputs": [
    {
     "name": "stdout",
     "output_type": "stream",
     "text": [
      "looping over a list\n",
      "1\n",
      "2\n",
      "3\n",
      "looping over a string\n",
      "1\n",
      "2\n",
      "3\n",
      "looping over a dictionary\n",
      "1\n",
      "2\n",
      "3\n"
     ]
    }
   ],
   "source": [
    "print(\"looping over a list\")\n",
    "\n",
    "for i in [1, 2, 3]:\n",
    "    print(i)\n",
    "\n",
    "print(\"looping over a string\")\n",
    "\n",
    "for i in \"123\":\n",
    "    print(i)\n",
    "\n",
    "print(\"looping over a dictionary\")\n",
    "\n",
    "d = {1:\"a\", 2:\"b\", 3:\"c\"}\n",
    "for i in d:\n",
    "    print(i)"
   ]
  },
  {
   "cell_type": "markdown",
   "id": "3f61404b",
   "metadata": {},
   "source": [
    "For example, `range(n)` is an iterator for the first `n` non-negative integers."
   ]
  },
  {
   "cell_type": "code",
   "execution_count": 2,
   "id": "bd6807c6",
   "metadata": {},
   "outputs": [
    {
     "name": "stdout",
     "output_type": "stream",
     "text": [
      "0\n",
      "1\n",
      "2\n"
     ]
    }
   ],
   "source": [
    "for i in range(3):\n",
    "    print(i)"
   ]
  },
  {
   "cell_type": "markdown",
   "id": "fbc0e4f4",
   "metadata": {},
   "source": [
    "## Make your own iterator\n",
    "\n",
    "We discuss three ways.\n",
    "\n",
    "(method:yield)=\n",
    "### 1. Using `yield` instead of `return` in a function"
   ]
  },
  {
   "cell_type": "code",
   "execution_count": 3,
   "id": "4b71ed59",
   "metadata": {},
   "outputs": [],
   "source": [
    "def my_range(n):\n",
    "    i = 0\n",
    "    while i < n:\n",
    "        yield i\n",
    "        i += 1"
   ]
  },
  {
   "cell_type": "markdown",
   "id": "fdc83c1f",
   "metadata": {},
   "source": [
    "Unlike a function with a return command, this function will continue to run after the `yield` statement."
   ]
  },
  {
   "cell_type": "code",
   "execution_count": 4,
   "id": "6e456f3f",
   "metadata": {},
   "outputs": [
    {
     "name": "stdout",
     "output_type": "stream",
     "text": [
      "0\n",
      "1\n",
      "2\n"
     ]
    }
   ],
   "source": [
    "for i in my_range(3):\n",
    "    print(i)"
   ]
  },
  {
   "cell_type": "markdown",
   "id": "9b461364",
   "metadata": {},
   "source": [
    "### 2. Create a class with an `__iter__` method"
   ]
  },
  {
   "cell_type": "code",
   "execution_count": 5,
   "id": "ce6ba59b",
   "metadata": {},
   "outputs": [],
   "source": [
    "class MyRange():\n",
    "    def __init__(self, n):\n",
    "        self.n = n\n",
    "\n",
    "    def __iter__(self):\n",
    "        return my_range(self.n)"
   ]
  },
  {
   "cell_type": "markdown",
   "id": "ad9d05ab",
   "metadata": {},
   "source": [
    "The `__iter__` method returns an iterable object. In this case it is the iterable function `my_range` that we defined earlier."
   ]
  },
  {
   "cell_type": "code",
   "execution_count": 6,
   "id": "50834f9b",
   "metadata": {},
   "outputs": [
    {
     "name": "stdout",
     "output_type": "stream",
     "text": [
      "0\n",
      "1\n",
      "2\n"
     ]
    }
   ],
   "source": [
    "for i in MyRange(3):\n",
    "    print(i)"
   ]
  },
  {
   "cell_type": "markdown",
   "id": "295c44c5",
   "metadata": {},
   "source": [
    "### 3. Create a class with a `__next__` method"
   ]
  },
  {
   "cell_type": "code",
   "execution_count": 7,
   "id": "4a506ced",
   "metadata": {},
   "outputs": [],
   "source": [
    "class MyRange2():\n",
    "    def __init__(self, n):\n",
    "        self.n = n\n",
    "        self.i = 0\n",
    "\n",
    "    def __iter__(self):\n",
    "        return self\n",
    "\n",
    "    def __next__(self):\n",
    "        i = self.i\n",
    "        if self.i < self.n:\n",
    "            self.i += 1\n",
    "            return i\n",
    "        else:\n",
    "            raise StopIteration"
   ]
  },
  {
   "cell_type": "code",
   "execution_count": 8,
   "id": "d0f732f4",
   "metadata": {},
   "outputs": [
    {
     "name": "stdout",
     "output_type": "stream",
     "text": [
      "0\n",
      "1\n",
      "2\n"
     ]
    }
   ],
   "source": [
    "for i in MyRange2(3):\n",
    "    print(i)"
   ]
  }
 ],
 "metadata": {
  "jupytext": {
   "text_representation": {
    "extension": ".md",
    "format_name": "myst",
    "format_version": 0.13,
    "jupytext_version": "1.16.2"
   }
  },
  "kernelspec": {
   "display_name": "Python 3 (ipykernel)",
   "language": "python",
   "name": "python3"
  },
  "language_info": {
   "codemirror_mode": {
    "name": "ipython",
    "version": 3
   },
   "file_extension": ".py",
   "mimetype": "text/x-python",
   "name": "python",
   "nbconvert_exporter": "python",
   "pygments_lexer": "ipython3",
   "version": "3.8.10"
  },
  "source_map": [
   12,
   19,
   35,
   39,
   42,
   51,
   57,
   61,
   64,
   68,
   75,
   79,
   82,
   86,
   104
  ]
 },
 "nbformat": 4,
 "nbformat_minor": 5
}