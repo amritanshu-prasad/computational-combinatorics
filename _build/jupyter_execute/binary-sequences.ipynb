{
 "cells": [
  {
   "cell_type": "markdown",
   "id": "d5b31ab2",
   "metadata": {},
   "source": [
    "# Binary Sequence\n",
    "\n",
    "### Definition\n",
    "\n",
    "A *binary sequence* of length $n$ is a sequence of the form $(a_0,\\dotsc,a_{n-1})$, where $a_i\\in \\{0,1\\}$ for $i=0,\\dotsc,n$.\n",
    "\n",
    "### Example: Binary Sequences of Length Three\n",
    "\n",
    "There are four binary sequences of length $3$, namely:\n",
    "$$\n",
    "000, 001, 010, 011, 100, 101, 110, 111\n",
    "$$\n",
    "For compactness of notation, the parentheses and commas have been removed.\n",
    "Moreover the sequences have been listed in dictionary order, also known as *lexicographic order*:\n",
    "Imagine a language whose alphabet only has two letters, namely $0$ and $1$.\n",
    "Each word in this language would be a binary sequences.\n",
    "If all binary sequences were words in this language, a dictionary would list them precisely in the order above.\n",
    "(generator:binary-sequences)=\n",
    "\n",
    "Let us generate all binary sequences of length `n` in lexicographic order [using a python function with `yield`](method:yield)"
   ]
  },
  {
   "cell_type": "code",
   "execution_count": 1,
   "id": "14962ce2",
   "metadata": {},
   "outputs": [],
   "source": [
    "def binary_sequences(n):\n",
    "    if n == 0:\n",
    "        yield []\n",
    "    else:\n",
    "        for seq in binary_sequences(n-1):\n",
    "            yield seq + [0]\n",
    "            yield seq + [1]"
   ]
  },
  {
   "cell_type": "code",
   "execution_count": 2,
   "id": "be13dd38",
   "metadata": {},
   "outputs": [
    {
     "name": "stdout",
     "output_type": "stream",
     "text": [
      "[0, 0, 0]\n",
      "[0, 0, 1]\n",
      "[0, 1, 0]\n",
      "[0, 1, 1]\n",
      "[1, 0, 0]\n",
      "[1, 0, 1]\n",
      "[1, 1, 0]\n",
      "[1, 1, 1]\n"
     ]
    }
   ],
   "source": [
    "for seq in binary_sequences(3):\n",
    "    print(seq)"
   ]
  },
  {
   "cell_type": "code",
   "execution_count": null,
   "id": "26530b37",
   "metadata": {},
   "outputs": [],
   "source": []
  }
 ],
 "metadata": {
  "jupytext": {
   "text_representation": {
    "extension": ".md",
    "format_name": "myst",
    "format_version": 0.13,
    "jupytext_version": "1.16.2"
   }
  },
  "kernelspec": {
   "display_name": "Python 3 (ipykernel)",
   "language": "python",
   "name": "python3"
  },
  "language_info": {
   "codemirror_mode": {
    "name": "ipython",
    "version": 3
   },
   "file_extension": ".py",
   "mimetype": "text/x-python",
   "name": "python",
   "nbconvert_exporter": "python",
   "pygments_lexer": "ipython3",
   "version": "3.8.10"
  },
  "source_map": [
   12,
   35,
   45,
   50
  ]
 },
 "nbformat": 4,
 "nbformat_minor": 5
}