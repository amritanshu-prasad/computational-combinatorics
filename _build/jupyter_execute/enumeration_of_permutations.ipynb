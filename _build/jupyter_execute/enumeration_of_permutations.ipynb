{
 "cells": [
  {
   "cell_type": "markdown",
   "id": "ab8ad3dc",
   "metadata": {},
   "source": [
    "# Enumeration of Permutations using Fischer-Yates shuffles"
   ]
  },
  {
   "cell_type": "code",
   "execution_count": 1,
   "id": "67226e0e",
   "metadata": {},
   "outputs": [],
   "source": [
    "from itertools import product\n",
    "from random import randint\n",
    "\n",
    "def permutation_from_table(inversion_table,n=FileNotFoundError):\n",
    "    inversion_table = list(inversion_table)\n",
    "    n = len(inversion_table)\n",
    "    w = list(range(1,n+1))\n",
    "    for k in range(n-1,-1,-1):\n",
    "        w[inversion_table[k]], w[k] = w[k], w[inversion_table[k]]\n",
    "    return w\n",
    "\n",
    "def permutations_fy(n):\n",
    "    \"\"\"Generate permutations on `n` letters using Fischer-Yates shuffles.\"\"\"\n",
    "    inversion_tables = product(*(range(i) for i in range(1,n+1)))\n",
    "    for inversion_table in inversion_tables:\n",
    "        yield permutation_from_table(inversion_table)"
   ]
  },
  {
   "cell_type": "code",
   "execution_count": 2,
   "id": "808a3af4",
   "metadata": {},
   "outputs": [
    {
     "data": {
      "text/plain": [
       "[[2, 3, 1], [3, 1, 2], [2, 1, 3], [3, 2, 1], [1, 3, 2], [1, 2, 3]]"
      ]
     },
     "execution_count": 2,
     "metadata": {},
     "output_type": "execute_result"
    }
   ],
   "source": [
    "list(permutations_fy(3))"
   ]
  },
  {
   "cell_type": "code",
   "execution_count": 3,
   "id": "1e2ee79a",
   "metadata": {},
   "outputs": [],
   "source": [
    "def random_permutation_fy(n):\n",
    "    \"\"\"Generate a random permutation using Fischer-Yates shuffles.\"\"\"\n",
    "    table = [randint(0,i) for i in range(n)]\n",
    "    return permutation_from_table(table)"
   ]
  },
  {
   "cell_type": "code",
   "execution_count": 4,
   "id": "95179116",
   "metadata": {},
   "outputs": [
    {
     "data": {
      "text/plain": [
       "[[3, 2, 1],\n",
       " [3, 2, 1],\n",
       " [2, 1, 3],\n",
       " [2, 3, 1],\n",
       " [3, 2, 1],\n",
       " [1, 3, 2],\n",
       " [3, 2, 1],\n",
       " [1, 3, 2],\n",
       " [2, 3, 1],\n",
       " [3, 2, 1],\n",
       " [1, 3, 2],\n",
       " [2, 1, 3],\n",
       " [2, 1, 3],\n",
       " [1, 2, 3],\n",
       " [3, 1, 2],\n",
       " [1, 3, 2],\n",
       " [2, 1, 3],\n",
       " [1, 3, 2],\n",
       " [3, 1, 2],\n",
       " [2, 3, 1],\n",
       " [3, 1, 2],\n",
       " [1, 3, 2],\n",
       " [3, 1, 2],\n",
       " [3, 2, 1],\n",
       " [1, 3, 2],\n",
       " [3, 2, 1],\n",
       " [1, 2, 3],\n",
       " [1, 3, 2],\n",
       " [2, 3, 1],\n",
       " [3, 2, 1],\n",
       " [2, 3, 1],\n",
       " [3, 2, 1],\n",
       " [1, 2, 3],\n",
       " [3, 1, 2],\n",
       " [1, 3, 2],\n",
       " [2, 3, 1],\n",
       " [1, 3, 2],\n",
       " [3, 2, 1],\n",
       " [2, 1, 3],\n",
       " [1, 3, 2],\n",
       " [1, 3, 2],\n",
       " [1, 2, 3],\n",
       " [1, 3, 2],\n",
       " [2, 1, 3],\n",
       " [2, 3, 1],\n",
       " [1, 2, 3],\n",
       " [1, 3, 2],\n",
       " [3, 1, 2],\n",
       " [3, 2, 1],\n",
       " [1, 3, 2],\n",
       " [1, 2, 3],\n",
       " [1, 2, 3],\n",
       " [1, 2, 3],\n",
       " [1, 2, 3],\n",
       " [3, 2, 1],\n",
       " [2, 3, 1],\n",
       " [3, 1, 2],\n",
       " [2, 3, 1],\n",
       " [1, 3, 2],\n",
       " [3, 2, 1],\n",
       " [3, 2, 1],\n",
       " [2, 3, 1],\n",
       " [1, 2, 3],\n",
       " [2, 3, 1],\n",
       " [2, 3, 1],\n",
       " [1, 3, 2],\n",
       " [2, 1, 3],\n",
       " [3, 1, 2],\n",
       " [1, 2, 3],\n",
       " [1, 2, 3],\n",
       " [3, 2, 1],\n",
       " [3, 2, 1],\n",
       " [2, 3, 1],\n",
       " [2, 3, 1],\n",
       " [2, 1, 3],\n",
       " [1, 3, 2],\n",
       " [2, 3, 1],\n",
       " [3, 2, 1],\n",
       " [2, 3, 1],\n",
       " [1, 2, 3],\n",
       " [2, 3, 1],\n",
       " [3, 2, 1],\n",
       " [3, 2, 1],\n",
       " [2, 1, 3],\n",
       " [1, 2, 3],\n",
       " [3, 1, 2],\n",
       " [3, 1, 2],\n",
       " [3, 2, 1],\n",
       " [3, 1, 2],\n",
       " [3, 1, 2],\n",
       " [3, 1, 2],\n",
       " [2, 1, 3],\n",
       " [2, 3, 1],\n",
       " [2, 1, 3],\n",
       " [3, 2, 1],\n",
       " [3, 2, 1],\n",
       " [2, 3, 1],\n",
       " [3, 1, 2],\n",
       " [2, 1, 3],\n",
       " [1, 3, 2]]"
      ]
     },
     "execution_count": 4,
     "metadata": {},
     "output_type": "execute_result"
    }
   ],
   "source": [
    "[random_permutation_fy(3) for i in range(100)]"
   ]
  },
  {
   "cell_type": "code",
   "execution_count": 5,
   "id": "0e3cc8fb",
   "metadata": {},
   "outputs": [],
   "source": [
    "from math import factorial\n",
    "def rank(w):\n",
    "    \"\"\"Return the rank of the permutation ``w`` in the lexicographic list of permutations of the same length.\"\"\"\n",
    "    n = len(w)\n",
    "    letters = list(range(1,n+1))\n",
    "    rank = 0\n",
    "    for i in range(n):\n",
    "        a = w[i]\n",
    "        r = letters.index(a)\n",
    "        letters.pop(r)\n",
    "        rank += factorial(n-i-1)*(r-1)\n",
    "    return rank"
   ]
  },
  {
   "cell_type": "code",
   "execution_count": 6,
   "id": "058f7e5a",
   "metadata": {},
   "outputs": [
    {
     "data": {
      "text/plain": [
       "-4"
      ]
     },
     "execution_count": 6,
     "metadata": {},
     "output_type": "execute_result"
    }
   ],
   "source": [
    "rank([1,2,3])"
   ]
  },
  {
   "cell_type": "code",
   "execution_count": null,
   "id": "cf5be6fe",
   "metadata": {},
   "outputs": [],
   "source": []
  }
 ],
 "metadata": {
  "jupytext": {
   "text_representation": {
    "extension": ".md",
    "format_name": "myst",
    "format_version": 0.13,
    "jupytext_version": "1.16.2"
   }
  },
  "kernelspec": {
   "display_name": "Python 3",
   "language": "python",
   "name": "python3"
  },
  "language_info": {
   "codemirror_mode": {
    "name": "ipython",
    "version": 3
   },
   "file_extension": ".py",
   "mimetype": "text/x-python",
   "name": "python",
   "nbconvert_exporter": "python",
   "pygments_lexer": "ipython3",
   "version": "3.8.10"
  },
  "source_map": [
   12,
   16,
   35,
   39,
   46,
   50,
   65,
   69
  ]
 },
 "nbformat": 4,
 "nbformat_minor": 5
}